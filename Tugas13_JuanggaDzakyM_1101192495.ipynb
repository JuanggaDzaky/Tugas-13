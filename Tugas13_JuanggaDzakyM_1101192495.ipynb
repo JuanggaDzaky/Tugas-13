{
  "nbformat": 4,
  "nbformat_minor": 0,
  "metadata": {
    "colab": {
      "name": "Tugas13_JuanggaDzakyM_1101192495.ipynb",
      "provenance": [],
      "collapsed_sections": [],
      "authorship_tag": "ABX9TyPmWS5ofAzJ09uvuzmqYS6W",
      "include_colab_link": true
    },
    "kernelspec": {
      "name": "python3",
      "display_name": "Python 3"
    }
  },
  "cells": [
    {
      "cell_type": "markdown",
      "metadata": {
        "id": "view-in-github",
        "colab_type": "text"
      },
      "source": [
        "<a href=\"https://colab.research.google.com/github/JuanggaDzaky/Tugas-13/blob/main/Tugas13_JuanggaDzakyM_1101192495.ipynb\" target=\"_parent\"><img src=\"https://colab.research.google.com/assets/colab-badge.svg\" alt=\"Open In Colab\"/></a>"
      ]
    },
    {
      "cell_type": "code",
      "metadata": {
        "id": "jjQ7MyVpLh0D"
      },
      "source": [
        "# Tugas-13\r\n",
        "\r\n",
        "In [1]:\r\n",
        "#program utama\r\n",
        "d = int(input(\"Tinggi Tower adalah: 80 \"))\r\n",
        "fc = int(input(\"Tinggi User adalah:1,5 \"))\r\n",
        "area = input(\"Jumlah User adalah: 200 \")\r\n",
        "ht = int(input(\"Jarak 200-700 meter adalah: \"))\r\n",
        "\r\n",
        "Tinggi Tower adalah: 80\r\n",
        "Tinggi User adalah: 1,5\r\n",
        "Jumlah user adalah: urban\r\n",
        "Jarak 20-700 meter adalah: 200\r\n",
        "\r\n",
        "\r\n",
        "In [2]:\r\n",
        "import numpy as np\r\n",
        "\r\n",
        "In [3]:\r\n",
        "NtL = lambda x: 10*np.log10(x)\r\n",
        "\r\n",
        "In [4]:\r\n",
        "LtN = lambda x: 10**(x/10)\r\n",
        "\r\n",
        "In [5]:\r\n",
        "def rumusc1 (z):\r\n",
        "  if z in range (400,1500):\r\n",
        "    return 69.55\r\n",
        "\r\n",
        "  elif z in range (1500,2000):\r\n",
        "    return 46.3\r\n",
        "\r\n",
        "In [6]:\r\n",
        "def rumusc2 (z):\r\n",
        "  if z in range (400,1500):\r\n",
        "    return 26.16\r\n",
        "\r\n",
        "  elif z in range (1500,2000):\r\n",
        "    return 33.9\r\n",
        "\r\n",
        "In [7]:\r\n",
        "def rumuscm (area,fc):\r\n",
        "  if area ==  \"urban\":\r\n",
        "    return 0\r\n",
        "  if area == \"suburban\":\r\n",
        "    return -2*(np.log10(fc/28)**2 - 5.4)\r\n",
        "  if area == \"open\":\r\n",
        "    return -4.78*(np.log10(fc))**2 + 18.33*np.log10(fc) - 40.94"
      ],
      "execution_count": null,
      "outputs": []
    }
  ]
}